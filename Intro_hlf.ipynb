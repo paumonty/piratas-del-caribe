{
 "cells": [
  {
   "cell_type": "markdown",
   "metadata": {},
   "source": [
    "![imagen](./img/hundir-la-flota-juego-de-mesa.jpg)"
   ]
  },
  {
   "cell_type": "markdown",
   "metadata": {},
   "source": [
    "En esta entrega vas a crear tu propio juego de **Hundir la flota** en Python. \n",
    "[Aquí](http://es.battleship-game.org/) podrás probarlo online."
   ]
  },
  {
   "attachments": {},
   "cell_type": "markdown",
   "metadata": {},
   "source": [
    "### En clase\n",
    "1. Crea la función `crear_tablero(tamaño)`, un tablero por defecto de 10x10 relleno del carácter \"_\" con numpy.\n",
    "2. Crea la función `colocar_barco(barco, tablero)`, que recibirá la lista de casillas de un barco y el tablero donde colocarlo. Prueba primero a posicionar un par de barcos por ejemplo en [(0,1), (1,1)] y [(1,3), (1,4), (1,5), (1,6)]. Los barcos serán Os mayúsculas. Como ves, un barco de dos posiciones de eslora y otro de cuatro.\n",
    "3. Crea la función `disparar(casilla, tablero)`, si el disparo acierta en un barco sustituye la O por una X (tocado), si es agua, sustituye la _ por una A (Agua). Prueba primero a disparar el barco de 2 casillas.\n",
    "4. Crea la función `crear_barco(eslora)`, que deberá crear una lista de casillas de un barco en función a la eslora, de forma aleatoria.\n",
    "\n",
    "### Proyecto individual\n",
    "1. Crea la función `colocar_barcos(tablero)`, que deberá de colocar la lista de barcos generados de forma aleatoria (6 barcos en total (3 barcos de eslora 2, 2 de eslora 3 y 1 eslora 4)) ¡Mucho ojo con barcos que estén superpuestos (no pueden ocupar dos barcos la misma casilla) o barcos que se salgan del tablero!\n",
    "2. Escribe el flujo completo del programa, con la dinámica de turnos y funcionalidades necesarios para jugar contra la máquina (dispara a tu tablero de forma aleatoria). Crea todas las funciones que necesites y aplica todo lo aprendido que te sea útil.\n",
    "3. Encapsula todo en un `main.py` y un `utils.py` para ejecutarlo desde terminal.\n",
    "4. Sube tu proyecto a un repositorio de github y prepara una demo (solo se podrá enseñar desde terminal) para la presentación de tu proyecto."
   ]
  },
  {
   "cell_type": "markdown",
   "metadata": {},
   "source": [
    "## Presentación\n",
    "Cada uno realizará una presentación el **lunes 17 de marzo**, donde se contarán con **10 minutos máximo**, importante ceñirse al tiempo. Se tendrá que enseñar:\n",
    "1. El git clone del repositorio de github a tu ordenador y explicar las partes más relevantes del código.\n",
    "2. Una demo donde se muestre el correcto funcionamiento del código para jugar, ejecutándose desde terminal.\n",
    "3. Explicación de la lógica de las partes más relevantes del código desarrollado."
   ]
  },
  {
   "cell_type": "code",
   "execution_count": 5,
   "metadata": {},
   "outputs": [],
   "source": [
    "import random\n",
    "import numpy as np"
   ]
  },
  {
   "cell_type": "code",
   "execution_count": 2,
   "metadata": {},
   "outputs": [],
   "source": [
    "def crear_tablero(tamaño=(10,10)):\n",
    "    return np.full(tamaño, '_')"
   ]
  },
  {
   "cell_type": "code",
   "execution_count": 3,
   "metadata": {},
   "outputs": [],
   "source": [
    "def disparar(casilla, tablero):\n",
    "    fila, columna = casilla\n",
    "    if  fila > 10 or fila < 0 and columna > 10 and columna < 0: \n",
    "        print(\"has disparado fuera del tablero, prueba de nuevo!!\")\n",
    "        return disparar(casilla, tablero)  \n",
    "\n",
    "    if tablero[casilla] == \"O\":\n",
    "        print(\"Acertaste\")\n",
    "        tablero[casilla] = \"X\"\n",
    "        return tablero\n",
    "    \n",
    "    elif tablero[casilla] == \"X\" or tablero[casilla] == \"A\": \n",
    "        print(\"Ya habias disparado ahi previamente!!\")\n",
    "        return disparar(casilla, tablero)\n",
    "    else:\n",
    "        print(\"Fallaste\")\n",
    "        tablero[casilla]  = \"A\"\n",
    "        return tablero"
   ]
  },
  {
   "cell_type": "code",
   "execution_count": null,
   "metadata": {},
   "outputs": [],
   "source": [
    "def donde_disparo():\n",
    "    fila = int(input(\"Introduce la fila (0-9): \"))\n",
    "    columna = int(input(\"Introduce la columna (0-9): \"))\n",
    "    if 0 <= fila <= 9 and 0 <= columna <= 9:\n",
    "        return (fila, columna)\n",
    "    else:\n",
    "       print(\" Coordenadas fuera del tablero. Intenta de nuevo.\")\n"
   ]
  },
  {
   "cell_type": "code",
   "execution_count": null,
   "metadata": {},
   "outputs": [],
   "source": [
    "def colocar_barco(barco, tablero):\n",
    "    for h,v in barco: \n",
    "        tablero [h,v] == \"O\""
   ]
  },
  {
   "cell_type": "code",
   "execution_count": 44,
   "metadata": {},
   "outputs": [],
   "source": [
    "def mostrar_tablero(tablero):\n",
    "    print(\"   0 1 2 3 4 5 6 7 8 9\")  \n",
    "    print(\"  ---------------------\")\n",
    "    for i in range(10):\n",
    "        fila = \" \".join(tablero[i])\n",
    "        print(f\"{i}| {fila}\")\n"
   ]
  },
  {
   "cell_type": "code",
   "execution_count": 43,
   "metadata": {},
   "outputs": [],
   "source": [
    "import random\n",
    "\n",
    "\n",
    "def crear_barco_aleatorio(eslora,tablero):\n",
    "    while True: \n",
    "        orientacion = random.choice([\"Horizontal\", \"Vertical\"])\n",
    "        barco_aleatorio = []\n",
    "         \n",
    "        if orientacion == \"Horizontal\": \n",
    "            fila = random.randint(0,9)\n",
    "            columna = random.randint(0, 10 - eslora)  #de esta manera sabemos que no se sale del mapa\n",
    "            for i in range(eslora): \n",
    "                barco_aleatorio.append(fila, columna + 1)\n",
    "        else: \n",
    "            columna = random.randint(0,9)\n",
    "            fila = random.randint(0, 10 - eslora)\n",
    "            for i in range(eslora): \n",
    "                barco_aleatorio.append(fila + 1, columna)\n",
    "            \n",
    "        if all(tablero[h, v] == \"_\" for h, v in barco_aleatorio):\n",
    "                return barco_aleatorio\n",
    "        else: crear_barco_aleatorio(eslora, tablero)\n"
   ]
  },
  {
   "cell_type": "code",
   "execution_count": null,
   "metadata": {},
   "outputs": [],
   "source": [
    "def colocar_barcos(tablero):\n",
    "    esloras = [2, 2, 2, 3, 3, 4]  \n",
    "    for eslora in esloras:\n",
    "        barco_colocado = True\n",
    "        while not barco_colocado:\n",
    "            barco = crear_barco_aleatorio(eslora, tablero)\n",
    "            colocar_barco (barco_colocado, tablero)\n",
    "    return tablero"
   ]
  },
  {
   "cell_type": "code",
   "execution_count": null,
   "metadata": {},
   "outputs": [],
   "source": [
    "def resultado_disparo_maq(casilla, tablero):\n",
    "    casilla = fila, columna\n",
    "    if tablero[casilla] == \"O\":\n",
    "        print(\"La maquina ha acertado\")\n",
    "        tablero[casilla] = \"X\"\n",
    "        return tablero\n",
    "    else:\n",
    "        print(\"La maquina ha\")\n",
    "        tablero[casilla]  = \"A\"\n",
    "        return tablero"
   ]
  },
  {
   "cell_type": "code",
   "execution_count": null,
   "metadata": {},
   "outputs": [],
   "source": [
    "def disparo_maquina(tablero, disparos_maq):\n",
    "    casilla = fila, columna\n",
    "    while True:\n",
    "        fila = random.randint(0, 9)\n",
    "        columna = random.randint(0, 9)\n",
    "        if (fila, columna) not in disparos_maq:\n",
    "            disparos_maq.add((fila, columna))\n",
    "            print(\"la máquina dispara a ({fila}, {columna})\")\n",
    "            disparar_maq(casilla, tablero) \n",
    "            break\n",
    "        else: disparo_maquina(tablero, disparos_maq)\n"
   ]
  },
  {
   "cell_type": "code",
   "execution_count": null,
   "metadata": {},
   "outputs": [],
   "source": [
    "def juego_terminado(tablero):\n",
    "    barco = True\n",
    "    while barco = True: \n",
    "        for fila in tablero:\n",
    "            for casilla in fila:\n",
    "                if casilla != \"O\":\n",
    "                    barco = False\n",
    "                    \n",
    "    return (\"El juego ha terminado\")\n"
   ]
  },
  {
   "cell_type": "code",
   "execution_count": 46,
   "metadata": {},
   "outputs": [
    {
     "ename": "TypeError",
     "evalue": "list.append() takes exactly one argument (2 given)",
     "output_type": "error",
     "traceback": [
      "\u001b[31m---------------------------------------------------------------------------\u001b[39m",
      "\u001b[31mTypeError\u001b[39m                                 Traceback (most recent call last)",
      "\u001b[36mCell\u001b[39m\u001b[36m \u001b[39m\u001b[32mIn[46]\u001b[39m\u001b[32m, line 3\u001b[39m\n\u001b[32m      1\u001b[39m tablero = crear_tablero()\n\u001b[32m      2\u001b[39m barco = [(\u001b[32m2\u001b[39m,\u001b[32m3\u001b[39m), (\u001b[32m2\u001b[39m,\u001b[32m4\u001b[39m), (\u001b[32m2\u001b[39m,\u001b[32m5\u001b[39m)]\n\u001b[32m----> \u001b[39m\u001b[32m3\u001b[39m \u001b[43mcolocar_barco\u001b[49m\u001b[43m(\u001b[49m\u001b[43mbarco\u001b[49m\u001b[43m,\u001b[49m\u001b[43m \u001b[49m\u001b[43mtablero\u001b[49m\u001b[43m)\u001b[49m\n\u001b[32m      4\u001b[39m mostrar_tablero(tablero)\n",
      "\u001b[36mCell\u001b[39m\u001b[36m \u001b[39m\u001b[32mIn[5]\u001b[39m\u001b[32m, line 6\u001b[39m, in \u001b[36mcolocar_barco\u001b[39m\u001b[34m(barco, tablero)\u001b[39m\n\u001b[32m      4\u001b[39m colocado = \u001b[38;5;28;01mFalse\u001b[39;00m\n\u001b[32m      5\u001b[39m \u001b[38;5;28;01mwhile\u001b[39;00m \u001b[38;5;129;01mnot\u001b[39;00m colocado:\n\u001b[32m----> \u001b[39m\u001b[32m6\u001b[39m     \u001b[43mcrear_barco_aleatorio\u001b[49m\u001b[43m(\u001b[49m\u001b[43meslora\u001b[49m\u001b[43m,\u001b[49m\u001b[43mtablero\u001b[49m\u001b[43m)\u001b[49m\n\u001b[32m      7\u001b[39m     \u001b[38;5;28;01mif\u001b[39;00m \u001b[38;5;28mall\u001b[39m(tablero[f, c] == \u001b[33m\"\u001b[39m\u001b[33m_\u001b[39m\u001b[33m\"\u001b[39m \u001b[38;5;28;01mfor\u001b[39;00m f, c \u001b[38;5;129;01min\u001b[39;00m barco):\n\u001b[32m      8\u001b[39m         colocar_barco(barco, tablero)\n",
      "\u001b[36mCell\u001b[39m\u001b[36m \u001b[39m\u001b[32mIn[43]\u001b[39m\u001b[32m, line 18\u001b[39m, in \u001b[36mcrear_barco_aleatorio\u001b[39m\u001b[34m(eslora, tablero)\u001b[39m\n\u001b[32m     16\u001b[39m     fila = random.randint(\u001b[32m0\u001b[39m, \u001b[32m10\u001b[39m - eslora)\n\u001b[32m     17\u001b[39m     \u001b[38;5;28;01mfor\u001b[39;00m i \u001b[38;5;129;01min\u001b[39;00m \u001b[38;5;28mrange\u001b[39m(eslora): \n\u001b[32m---> \u001b[39m\u001b[32m18\u001b[39m         \u001b[43mbarco_aleatorio\u001b[49m\u001b[43m.\u001b[49m\u001b[43mappend\u001b[49m\u001b[43m(\u001b[49m\u001b[43mfila\u001b[49m\u001b[43m \u001b[49m\u001b[43m+\u001b[49m\u001b[43m \u001b[49m\u001b[32;43m1\u001b[39;49m\u001b[43m,\u001b[49m\u001b[43m \u001b[49m\u001b[43mcolumna\u001b[49m\u001b[43m)\u001b[49m\n\u001b[32m     20\u001b[39m \u001b[38;5;28;01mif\u001b[39;00m \u001b[38;5;28mall\u001b[39m(tablero[h, v] == \u001b[33m\"\u001b[39m\u001b[33m_\u001b[39m\u001b[33m\"\u001b[39m \u001b[38;5;28;01mfor\u001b[39;00m h, v \u001b[38;5;129;01min\u001b[39;00m barco_aleatorio):\n\u001b[32m     21\u001b[39m         \u001b[38;5;28;01mreturn\u001b[39;00m barco_aleatorio\n",
      "\u001b[31mTypeError\u001b[39m: list.append() takes exactly one argument (2 given)"
     ]
    }
   ],
   "source": [
    "tablero = crear_tablero()\n",
    "barco = [(2,3), (2,4), (2,5)]\n",
    "colocar_barco(barco, tablero)\n",
    "mostrar_tablero(tablero)\n"
   ]
  }
 ],
 "metadata": {
  "kernelspec": {
   "display_name": "Python 3",
   "language": "python",
   "name": "python3"
  },
  "language_info": {
   "codemirror_mode": {
    "name": "ipython",
    "version": 3
   },
   "file_extension": ".py",
   "mimetype": "text/x-python",
   "name": "python",
   "nbconvert_exporter": "python",
   "pygments_lexer": "ipython3",
   "version": "3.13.2"
  },
  "orig_nbformat": 4
 },
 "nbformat": 4,
 "nbformat_minor": 2
}
