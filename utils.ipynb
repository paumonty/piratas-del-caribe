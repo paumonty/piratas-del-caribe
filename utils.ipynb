{
 "cells": [
  {
   "cell_type": "markdown",
   "metadata": {},
   "source": [
    "## Crear tablero "
   ]
  },
  {
   "cell_type": "code",
   "execution_count": 4,
   "metadata": {},
   "outputs": [],
   "source": [
    "import random\n",
    "import numpy as np\n",
    "\n",
    "\n",
    "def crear_tablero(tamaño=(10,10)):\n",
    "    return np.full(tamaño, '_')"
   ]
  },
  {
   "cell_type": "markdown",
   "metadata": {},
   "source": [
    "## colocar todos los barcos"
   ]
  },
  {
   "cell_type": "code",
   "execution_count": 5,
   "metadata": {},
   "outputs": [],
   "source": [
    "def colocar_barco(barco, tablero):\n",
    "    for h,v in barco: \n",
    "        tablero [h,v] == \"O\""
   ]
  },
  {
   "cell_type": "code",
   "execution_count": 6,
   "metadata": {},
   "outputs": [],
   "source": [
    "import random \n",
    "\n",
    "def crear_barco_aleatorio(eslora, tablero):\n",
    "    while True: \n",
    "        orientacion = random.choice([\"Horizontal\", \"Vertical\"])\n",
    "        barco_aleatorio = []\n",
    "\n",
    "        if orientacion == \"Horizontal\": \n",
    "            fila = random.randint(0, 9)\n",
    "            columna = random.randint(0, 10 - eslora)\n",
    "            for i in range(eslora): \n",
    "                barco_aleatorio.append((fila, columna + i))\n",
    "        else: \n",
    "            columna = random.randint(0, 9)\n",
    "            fila = random.randint(0, 10 - eslora)\n",
    "            for i in range(eslora): \n",
    "                barco_aleatorio.append((fila + i, columna))\n",
    "\n",
    "        valido = True\n",
    "        for h, v in barco_aleatorio: \n",
    "            if tablero[h, v] != \"_\": \n",
    "                valido = False\n",
    "                break  # no hace falta volver a llamar a la función, el while se repite solo\n",
    "        \n",
    "        if valido: \n",
    "            return barco_aleatorio\n"
   ]
  },
  {
   "cell_type": "code",
   "execution_count": 7,
   "metadata": {},
   "outputs": [],
   "source": [
    "def colocar_barcos(tablero):\n",
    "    esloras = [2, 2, 2, 3, 3, 4]\n",
    "    for eslora in esloras:\n",
    "        barco_valido = crear_barco_aleatorio(eslora, tablero)\n",
    "        for h, v in barco_valido:\n",
    "            tablero[h, v] = \"O\"\n"
   ]
  },
  {
   "cell_type": "markdown",
   "metadata": {},
   "source": [
    "## Mostrar el tablero"
   ]
  },
  {
   "cell_type": "code",
   "execution_count": 8,
   "metadata": {},
   "outputs": [],
   "source": [
    "# def mostrar_tablero(tablero):\n",
    "#     print(\"   0 1 2 3 4 5 6 7 8 9\")  \n",
    "#     print(\"  ---------------------\")\n",
    "#     for i in range(10):\n",
    "#         fila = \" \".join(tablero[i])\n",
    "#         print(f\"{i}| {fila}\")\n"
   ]
  },
  {
   "cell_type": "code",
   "execution_count": 9,
   "metadata": {},
   "outputs": [],
   "source": [
    "def mostrar_tablero(tablero, ocultar_barcos=False):\n",
    "    print(\"   0 1 2 3 4 5 6 7 8 9\")  \n",
    "    print(\"  ---------------------\")\n",
    "    for i in range(10):\n",
    "        fila = []\n",
    "        for casilla in tablero[i]:\n",
    "            if ocultar_barcos and casilla == \"O\":\n",
    "                fila.append(\"_\")\n",
    "            else:\n",
    "                fila.append(casilla)\n",
    "        print(f\"{i}| \" + \" \".join(fila))\n"
   ]
  },
  {
   "cell_type": "markdown",
   "metadata": {},
   "source": [
    "## disparo jugadir"
   ]
  },
  {
   "cell_type": "code",
   "execution_count": 10,
   "metadata": {},
   "outputs": [],
   "source": [
    "def disparar(tablero):\n",
    "    while True:\n",
    "    \n",
    "        fila = int(input(\"Introduce la fila (0-9): \"))\n",
    "        columna = int(input(\"Introduce la columna (0-9): \"))\n",
    "            \n",
    "        if not (0 <= fila <= 9 and 0 <= columna <= 9):     \n",
    "            print(\"Has disparado fuera del tablero. Intenta de nuevo\")\n",
    "            continue  \n",
    "\n",
    "        if tablero[fila, columna] == \"O\":\n",
    "            print(\" Acertaste!\")\n",
    "            tablero[fila, columna] = \"X\"\n",
    "            break\n",
    "\n",
    "        elif tablero[fila, columna] in (\"X\", \"A\"):\n",
    "            print(\" Ya habías disparado ahí.\")\n",
    "            continue  \n",
    "        \n",
    "        else:\n",
    "            print(\" Fallaste \")\n",
    "            tablero[fila, columna] = \"A\"\n",
    "            break\n"
   ]
  },
  {
   "cell_type": "markdown",
   "metadata": {},
   "source": [
    "## disparo maquina "
   ]
  },
  {
   "cell_type": "code",
   "execution_count": 11,
   "metadata": {},
   "outputs": [],
   "source": [
    "def disparo_maquina(tablero, disparos_maq):\n",
    "    while True:\n",
    "        fila = random.randint(0, 9)\n",
    "        columna = random.randint(0, 9)\n",
    "        casilla = (fila, columna)  \n",
    "\n",
    "        if casilla not in disparos_maq:\n",
    "            disparos_maq.add(casilla)\n",
    "            print(\"La máquina dispara a \", casilla)\n",
    "    \n",
    "        if tablero[casilla] == \"O\":\n",
    "            print(\"La máquina ha acertado\")\n",
    "            tablero[casilla] = \"X\"\n",
    "        else:\n",
    "            print(\"La máquina ha fallado\")\n",
    "            tablero[casilla] = \"A\"\n",
    "        return tablero \n"
   ]
  },
  {
   "cell_type": "markdown",
   "metadata": {},
   "source": [
    "## cuando se acaba la partida"
   ]
  },
  {
   "cell_type": "code",
   "execution_count": 12,
   "metadata": {},
   "outputs": [],
   "source": [
    "def juego_terminado(tablero):\n",
    "    for fila in tablero:\n",
    "        for casilla in fila:\n",
    "            if casilla == \"O\":\n",
    "                return False  \n",
    "    return True, (\"El juego ha terminado\")  "
   ]
  },
  {
   "cell_type": "code",
   "execution_count": 13,
   "metadata": {},
   "outputs": [],
   "source": [
    "def juego_terminado(tablero):\n",
    "    for fila in tablero:\n",
    "        for casilla in fila:\n",
    "            if casilla == \"O\":\n",
    "                return False  \n",
    "    return True  \n"
   ]
  },
  {
   "cell_type": "code",
   "execution_count": 14,
   "metadata": {},
   "outputs": [],
   "source": [
    "import time\n",
    "\n",
    "def introduccion_juego():\n",
    "    print(\"\\n\" + \"=\" * 40)\n",
    "    print(\"BIENVENIDO A BATALLA NAVAL CONTRA LOS PIRATAS DEL CARIBE\")\n",
    "    print(\"=\" * 40)\n",
    "    time.sleep(1)\n",
    "\n",
    "    print(\"\\nPrepárate, capitán... ⚓\")\n",
    "    time.sleep(1)\n",
    "    print(\"Colocando barcos enemigos... 🚢\")\n",
    "    time.sleep(1)\n",
    "    print(\"Listo tu tablero... 📍\")\n",
    "    time.sleep(1)\n",
    "    print(\"\\n Estás listo para hundir la flota enemiga? 💥\\n\")\n",
    "    time.sleep(1)\n",
    "    input(\"Pulsa Enter para comenzar \\n\")"
   ]
  },
  {
   "cell_type": "code",
   "execution_count": 15,
   "metadata": {},
   "outputs": [
    {
     "name": "stdout",
     "output_type": "stream",
     "text": [
      "\n",
      "========================================\n",
      "BIENVENIDO A BATALLA NAVAL CONTRA LOS PIRATAS DEL CARIBE\n",
      "========================================\n",
      "\n",
      "Prepárate, capitán... ⚓\n",
      "Colocando barcos enemigos... 🚢\n",
      "Listo tu tablero... 📍\n",
      "\n",
      " Estás listo para hundir la flota enemiga? 💥\n",
      "\n",
      "El tabero se encuentra asi: \n",
      "\n",
      "El tablero de la maquina\n",
      "\n",
      "   0 1 2 3 4 5 6 7 8 9\n",
      "  ---------------------\n",
      "0| _ _ _ O O O O _ _ _\n",
      "1| _ _ _ _ _ _ _ _ _ _\n",
      "2| O _ _ _ _ _ _ _ _ _\n",
      "3| O O O O _ _ _ _ _ _\n",
      "4| O _ _ _ _ _ _ _ _ _\n",
      "5| _ _ _ _ O _ _ _ _ _\n",
      "6| _ _ _ _ O _ _ _ _ O\n",
      "7| _ _ _ O _ _ _ _ _ O\n",
      "8| _ _ _ O _ _ _ _ _ _\n",
      "9| _ _ _ _ _ _ _ _ _ _\n",
      "   0 1 2 3 4 5 6 7 8 9\n",
      "  ---------------------\n",
      "0| _ _ _ _ _ _ _ _ _ _\n",
      "1| _ _ _ _ _ _ _ _ _ _\n",
      "2| _ _ _ _ _ _ _ _ _ _\n",
      "3| _ _ _ _ _ _ _ _ _ _\n",
      "4| _ _ _ _ _ _ _ _ _ _\n",
      "5| _ _ _ _ _ _ _ _ _ _\n",
      "6| _ _ _ _ _ _ _ _ _ _\n",
      "7| _ _ _ _ _ _ _ _ _ _\n",
      "8| _ _ _ _ _ _ _ _ _ _\n",
      "9| _ _ _ _ _ _ _ _ _ _\n",
      "\n",
      "Su tablero\n",
      "\n",
      "   0 1 2 3 4 5 6 7 8 9\n",
      "  ---------------------\n",
      "0| _ _ _ _ _ _ _ _ _ _\n",
      "1| _ O O O _ _ _ _ _ _\n",
      "2| _ _ _ _ O O O O _ _\n",
      "3| _ _ _ _ _ _ O O O O\n",
      "4| _ O O _ _ _ _ _ _ O\n",
      "5| _ _ _ _ _ _ _ _ _ _\n",
      "6| _ _ _ _ O _ _ _ _ _\n",
      "7| _ _ _ _ O _ _ _ _ _\n",
      "8| _ _ _ _ _ _ _ _ _ _\n",
      "9| _ _ _ _ _ _ _ _ _ _\n"
     ]
    },
    {
     "ename": "ValueError",
     "evalue": "invalid literal for int() with base 10: ''",
     "output_type": "error",
     "traceback": [
      "\u001b[31m---------------------------------------------------------------------------\u001b[39m",
      "\u001b[31mValueError\u001b[39m                                Traceback (most recent call last)",
      "\u001b[36mCell\u001b[39m\u001b[36m \u001b[39m\u001b[32mIn[15]\u001b[39m\u001b[32m, line 19\u001b[39m\n\u001b[32m     15\u001b[39m \u001b[38;5;28mprint\u001b[39m(\u001b[33m\"\u001b[39m\u001b[38;5;130;01m\\n\u001b[39;00m\u001b[33mSu tablero\u001b[39m\u001b[38;5;130;01m\\n\u001b[39;00m\u001b[33m\"\u001b[39m)\n\u001b[32m     16\u001b[39m mostrar_tablero(tablero_jugador)\n\u001b[32m---> \u001b[39m\u001b[32m19\u001b[39m \u001b[43mdisparar\u001b[49m\u001b[43m(\u001b[49m\u001b[43mtablero_maquina\u001b[49m\u001b[43m)\u001b[49m\n\u001b[32m     20\u001b[39m disparo_maquina(tablero_jugador, disparos_maq)\n\u001b[32m     22\u001b[39m \u001b[38;5;66;03m# juego_terminado(tablero_maquina)\u001b[39;00m\n\u001b[32m     23\u001b[39m \u001b[38;5;66;03m# juego_terminado(tablero_jugador)\u001b[39;00m\n\u001b[32m     24\u001b[39m \n\u001b[32m   (...)\u001b[39m\u001b[32m     34\u001b[39m \u001b[38;5;66;03m#         if casilla != \"O\" and (casilla == \"X\" or casilla == \"X\" or casilla ==\"_\"):\u001b[39;00m\n\u001b[32m     35\u001b[39m \u001b[38;5;66;03m#             print(\"Usted ha ganado\")  \u001b[39;00m\n",
      "\u001b[36mCell\u001b[39m\u001b[36m \u001b[39m\u001b[32mIn[10]\u001b[39m\u001b[32m, line 4\u001b[39m, in \u001b[36mdisparar\u001b[39m\u001b[34m(tablero)\u001b[39m\n\u001b[32m      1\u001b[39m \u001b[38;5;28;01mdef\u001b[39;00m\u001b[38;5;250m \u001b[39m\u001b[34mdisparar\u001b[39m(tablero):\n\u001b[32m      2\u001b[39m     \u001b[38;5;28;01mwhile\u001b[39;00m \u001b[38;5;28;01mTrue\u001b[39;00m:\n\u001b[32m----> \u001b[39m\u001b[32m4\u001b[39m         fila = \u001b[38;5;28;43mint\u001b[39;49m\u001b[43m(\u001b[49m\u001b[38;5;28;43minput\u001b[39;49m\u001b[43m(\u001b[49m\u001b[33;43m\"\u001b[39;49m\u001b[33;43mIntroduce la fila (0-9): \u001b[39;49m\u001b[33;43m\"\u001b[39;49m\u001b[43m)\u001b[49m\u001b[43m)\u001b[49m\n\u001b[32m      5\u001b[39m         columna = \u001b[38;5;28mint\u001b[39m(\u001b[38;5;28minput\u001b[39m(\u001b[33m\"\u001b[39m\u001b[33mIntroduce la columna (0-9): \u001b[39m\u001b[33m\"\u001b[39m))\n\u001b[32m      7\u001b[39m         \u001b[38;5;28;01mif\u001b[39;00m \u001b[38;5;129;01mnot\u001b[39;00m (\u001b[32m0\u001b[39m <= fila <= \u001b[32m9\u001b[39m \u001b[38;5;129;01mand\u001b[39;00m \u001b[32m0\u001b[39m <= columna <= \u001b[32m9\u001b[39m):     \n",
      "\u001b[31mValueError\u001b[39m: invalid literal for int() with base 10: ''"
     ]
    }
   ],
   "source": [
    "introduccion_juego()\n",
    "\n",
    "tablero_jugador = crear_tablero()\n",
    "tablero_maquina = crear_tablero()\n",
    "\n",
    "colocar_barcos(tablero_jugador)\n",
    "colocar_barcos(tablero_maquina)\n",
    "disparos_maq = set()    \n",
    "\n",
    "while True: \n",
    "    print(\"El tabero se encuentra asi: \")\n",
    "    print(\"\\nEl tablero de la maquina\\n\")\n",
    "    mostrar_tablero(tablero_maquina)\n",
    "    mostrar_tablero(np.where(tablero_maquina == \"O\", \"_\", tablero_maquina))\n",
    "    print(\"\\nSu tablero\\n\")\n",
    "    mostrar_tablero(tablero_jugador)\n",
    "\n",
    "\n",
    "    disparar(tablero_maquina)\n",
    "    disparo_maquina(tablero_jugador, disparos_maq)\n",
    "\n",
    "    # juego_terminado(tablero_maquina)\n",
    "    # juego_terminado(tablero_jugador)\n",
    "\n",
    "    \n",
    "\n",
    "    # for fila in tablero_jugador:\n",
    "    #     for casilla in fila:\n",
    "    #         if casilla != \"O\" and (casilla == \"X\" or casilla == \"X\" or casilla ==\"_\"):\n",
    "    #             print(\"La maquina ha ganado\") \n",
    "\n",
    "    # for fila in tablero_maquina:\n",
    "    #     for casilla in fila:\n",
    "    #         if casilla != \"O\" and (casilla == \"X\" or casilla == \"X\" or casilla ==\"_\"):\n",
    "    #             print(\"Usted ha ganado\")  \n",
    "\n",
    "\n"
   ]
  },
  {
   "cell_type": "code",
   "execution_count": null,
   "metadata": {},
   "outputs": [],
   "source": [
    "import time\n",
    "\n",
    "def introduccion_juego():\n",
    "    print(\"\\n\" + \"=\" * 40)\n",
    "    print(\"BIENVENIDO A BATALLA NAVAL CONTRA LOS PIRATAS DEL CARIBE\")\n",
    "    print(\"=\" * 40)\n",
    "    time.sleep(1)\n",
    "\n",
    "    print(\"\\nPrepárate, capitán... ⚓\")\n",
    "    time.sleep(1)\n",
    "    print(\"Colocando barcos enemigos... 🚢\")\n",
    "    time.sleep(1)\n",
    "    print(\"Listo tu tablero... 📍\")\n",
    "    time.sleep(1)\n",
    "    print(\"\\n¿Estás listo para hundir la flota enemiga? 💥\\n\")\n",
    "    time.sleep(1)\n",
    "    input(\"Pulsa Enter para comenzar...\\n\")\n",
    "\n"
   ]
  }
 ],
 "metadata": {
  "kernelspec": {
   "display_name": "Python 3",
   "language": "python",
   "name": "python3"
  },
  "language_info": {
   "codemirror_mode": {
    "name": "ipython",
    "version": 3
   },
   "file_extension": ".py",
   "mimetype": "text/x-python",
   "name": "python",
   "nbconvert_exporter": "python",
   "pygments_lexer": "ipython3",
   "version": "3.13.2"
  }
 },
 "nbformat": 4,
 "nbformat_minor": 2
}
