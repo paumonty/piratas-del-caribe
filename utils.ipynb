{
 "cells": [
  {
   "cell_type": "markdown",
   "metadata": {},
   "source": [
    "## Crear tablero "
   ]
  },
  {
   "cell_type": "code",
   "execution_count": 1,
   "metadata": {},
   "outputs": [],
   "source": [
    "import random\n",
    "import numpy as np\n",
    "\n",
    "\n",
    "def crear_tablero(tamaño=(10,10)):\n",
    "    return np.full(tamaño, '_')"
   ]
  },
  {
   "cell_type": "code",
   "execution_count": 23,
   "metadata": {},
   "outputs": [
    {
     "name": "stdout",
     "output_type": "stream",
     "text": [
      "[['_' '_' '_' '_' '_' '_' '_' '_' '_' '_']\n",
      " ['_' '_' '_' '_' '_' '_' '_' '_' '_' '_']\n",
      " ['_' '_' '_' '_' '_' '_' '_' '_' '_' '_']\n",
      " ['_' '_' '_' '_' '_' '_' '_' '_' '_' '_']\n",
      " ['_' '_' '_' '_' '_' '_' '_' '_' '_' '_']\n",
      " ['_' '_' '_' '_' '_' '_' '_' '_' '_' '_']\n",
      " ['_' '_' '_' '_' '_' '_' '_' '_' '_' '_']\n",
      " ['_' '_' '_' '_' '_' '_' '_' '_' '_' '_']\n",
      " ['_' '_' '_' '_' '_' '_' '_' '_' '_' '_']\n",
      " ['_' '_' '_' '_' '_' '_' '_' '_' '_' '_']]\n"
     ]
    }
   ],
   "source": [
    "tablero = crear_tablero()\n",
    "print(tablero)"
   ]
  },
  {
   "cell_type": "markdown",
   "metadata": {},
   "source": [
    "## colocar todos los barcos"
   ]
  },
  {
   "cell_type": "code",
   "execution_count": 46,
   "metadata": {},
   "outputs": [],
   "source": [
    "def colocar_barco(barco, tablero):\n",
    "    for h,v in barco: \n",
    "        tablero [h,v] == \"O\""
   ]
  },
  {
   "cell_type": "code",
   "execution_count": null,
   "metadata": {},
   "outputs": [],
   "source": [
    "import random \n",
    "\n",
    "def crear_barco_aleatorio(eslora, tablero):\n",
    "    while True: \n",
    "        orientacion = random.choice([\"Horizontal\", \"Vertical\"])\n",
    "        barco_aleatorio = []\n",
    "\n",
    "        if orientacion == \"Horizontal\": \n",
    "            fila = random.randint(0, 9)\n",
    "            columna = random.randint(0, 10 - eslora)\n",
    "            for i in range(eslora): \n",
    "                barco_aleatorio.append((fila, columna + i))\n",
    "        else: \n",
    "            columna = random.randint(0, 9)\n",
    "            fila = random.randint(0, 10 - eslora)\n",
    "            for i in range(eslora): \n",
    "                barco_aleatorio.append((fila + i, columna))\n",
    "\n",
    "        valido = True\n",
    "        for h, v in barco_aleatorio: \n",
    "            if tablero[h, v] != \"_\": \n",
    "                valido = False\n",
    "                break  # no hace falta volver a llamar a la función, el while se repite solo\n",
    "        \n",
    "        if valido: \n",
    "            return barco_aleatorio\n"
   ]
  },
  {
   "cell_type": "code",
   "execution_count": 48,
   "metadata": {},
   "outputs": [],
   "source": [
    "def colocar_barcos(tablero):\n",
    "    esloras = [2, 2, 2, 3, 3, 4]\n",
    "    for eslora in esloras:\n",
    "        barco_valido = crear_barco_aleatorio(eslora, tablero)\n",
    "        for h, v in barco_valido:\n",
    "            tablero[h, v] = \"O\"\n"
   ]
  },
  {
   "cell_type": "markdown",
   "metadata": {},
   "source": [
    "## Mostrar el tablero"
   ]
  },
  {
   "cell_type": "code",
   "execution_count": 29,
   "metadata": {},
   "outputs": [],
   "source": [
    "def mostrar_tablero(tablero):\n",
    "    print(\"   0 1 2 3 4 5 6 7 8 9\")  \n",
    "    print(\"  ---------------------\")\n",
    "    for i in range(10):\n",
    "        fila = \" \".join(tablero[i])\n",
    "        print(f\"{i}| {fila}\")\n"
   ]
  },
  {
   "cell_type": "markdown",
   "metadata": {},
   "source": [
    "## disparo jugadir"
   ]
  },
  {
   "cell_type": "code",
   "execution_count": null,
   "metadata": {},
   "outputs": [],
   "source": [
    "def disparar(tablero):\n",
    "    while True:\n",
    "    \n",
    "        fila = int(input(\"Introduce la fila (0-9): \"))\n",
    "        columna = int(input(\"Introduce la columna (0-9): \"))\n",
    "            \n",
    "        if not (0 <= fila <= 9 and 0 <= columna <= 9):     \n",
    "            print(\"Has disparado fuera del tablero. Intenta de nuevo\")\n",
    "            continue  \n",
    "\n",
    "        if tablero[fila, columna] == \"O\":\n",
    "            print(\" Acertaste!\")\n",
    "            tablero[fila, columna] = \"X\"\n",
    "            break\n",
    "\n",
    "        elif tablero[fila, columna] in (\"X\", \"A\"):\n",
    "            print(\" Ya habías disparado ahí.\")\n",
    "            continue  \n",
    "        \n",
    "        else:\n",
    "            print(\" Fallaste \")\n",
    "            tablero[fila, columna] = \"A\"\n",
    "            break\n"
   ]
  },
  {
   "cell_type": "markdown",
   "metadata": {},
   "source": [
    "## disparo maquina "
   ]
  },
  {
   "cell_type": "code",
   "execution_count": null,
   "metadata": {},
   "outputs": [],
   "source": [
    "def disparo_maquina(tablero, disparos_maq):\n",
    "    while True:\n",
    "        fila = random.randint(0, 9)\n",
    "        columna = random.randint(0, 9)\n",
    "        casilla = (fila, columna)  \n",
    "\n",
    "        if casilla not in disparos_maq:\n",
    "            disparos_maq.add(casilla)\n",
    "            print(\"La máquina dispara a \", casilla)\n",
    "    \n",
    "        if tablero[casilla] == \"O\":\n",
    "            print(\"La máquina ha acertado\")\n",
    "            tablero[casilla] = \"X\"\n",
    "        else:\n",
    "            print(\"La máquina ha fallado\")\n",
    "            tablero[casilla] = \"A\"\n",
    "        return tablero \n"
   ]
  },
  {
   "cell_type": "markdown",
   "metadata": {},
   "source": [
    "## cuando se acaba la partida"
   ]
  },
  {
   "cell_type": "code",
   "execution_count": 15,
   "metadata": {},
   "outputs": [],
   "source": [
    "def juego_terminado(tablero):\n",
    "    aun_hay_barcos = True\n",
    "    while aun_hay_barcos: \n",
    "        for fila in tablero:\n",
    "            for casilla in fila:\n",
    "                if casilla != \"O\":               \n",
    "                    aun_hay_barcos = False \n",
    "    return (\"El juego ha terminado\")\n"
   ]
  },
  {
   "cell_type": "code",
   "execution_count": null,
   "metadata": {},
   "outputs": [],
   "source": [
    "tablero = crear_tablero()\n",
    "colocar_barcos(tablero)\n",
    "mostrar_tablero(tablero)\n"
   ]
  }
 ],
 "metadata": {
  "kernelspec": {
   "display_name": "Python 3",
   "language": "python",
   "name": "python3"
  },
  "language_info": {
   "codemirror_mode": {
    "name": "ipython",
    "version": 3
   },
   "file_extension": ".py",
   "mimetype": "text/x-python",
   "name": "python",
   "nbconvert_exporter": "python",
   "pygments_lexer": "ipython3",
   "version": "3.13.2"
  }
 },
 "nbformat": 4,
 "nbformat_minor": 2
}
